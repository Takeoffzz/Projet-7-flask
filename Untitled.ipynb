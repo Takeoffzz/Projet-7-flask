{
 "cells": [
  {
   "cell_type": "code",
   "execution_count": 3,
   "id": "37cd185d-7169-477f-b8a8-c3559e0e89fa",
   "metadata": {},
   "outputs": [
    {
     "data": {
      "text/html": [
       "<div>\n",
       "<style scoped>\n",
       "    .dataframe tbody tr th:only-of-type {\n",
       "        vertical-align: middle;\n",
       "    }\n",
       "\n",
       "    .dataframe tbody tr th {\n",
       "        vertical-align: top;\n",
       "    }\n",
       "\n",
       "    .dataframe thead th {\n",
       "        text-align: right;\n",
       "    }\n",
       "</style>\n",
       "<table border=\"1\" class=\"dataframe\">\n",
       "  <thead>\n",
       "    <tr style=\"text-align: right;\">\n",
       "      <th></th>\n",
       "      <th>SK_ID_CURR</th>\n",
       "      <th>TARGET</th>\n",
       "    </tr>\n",
       "  </thead>\n",
       "  <tbody>\n",
       "    <tr>\n",
       "      <th>0</th>\n",
       "      <td>100001</td>\n",
       "      <td>0.034196</td>\n",
       "    </tr>\n",
       "    <tr>\n",
       "      <th>1</th>\n",
       "      <td>100005</td>\n",
       "      <td>0.141781</td>\n",
       "    </tr>\n",
       "    <tr>\n",
       "      <th>2</th>\n",
       "      <td>100013</td>\n",
       "      <td>0.029706</td>\n",
       "    </tr>\n",
       "    <tr>\n",
       "      <th>3</th>\n",
       "      <td>100028</td>\n",
       "      <td>0.037648</td>\n",
       "    </tr>\n",
       "    <tr>\n",
       "      <th>4</th>\n",
       "      <td>100038</td>\n",
       "      <td>0.151049</td>\n",
       "    </tr>\n",
       "    <tr>\n",
       "      <th>...</th>\n",
       "      <td>...</td>\n",
       "      <td>...</td>\n",
       "    </tr>\n",
       "    <tr>\n",
       "      <th>48739</th>\n",
       "      <td>456221</td>\n",
       "      <td>0.044465</td>\n",
       "    </tr>\n",
       "    <tr>\n",
       "      <th>48740</th>\n",
       "      <td>456222</td>\n",
       "      <td>0.061197</td>\n",
       "    </tr>\n",
       "    <tr>\n",
       "      <th>48741</th>\n",
       "      <td>456223</td>\n",
       "      <td>0.008194</td>\n",
       "    </tr>\n",
       "    <tr>\n",
       "      <th>48742</th>\n",
       "      <td>456224</td>\n",
       "      <td>0.025276</td>\n",
       "    </tr>\n",
       "    <tr>\n",
       "      <th>48743</th>\n",
       "      <td>456250</td>\n",
       "      <td>0.255409</td>\n",
       "    </tr>\n",
       "  </tbody>\n",
       "</table>\n",
       "<p>48744 rows × 2 columns</p>\n",
       "</div>"
      ],
      "text/plain": [
       "       SK_ID_CURR    TARGET\n",
       "0          100001  0.034196\n",
       "1          100005  0.141781\n",
       "2          100013  0.029706\n",
       "3          100028  0.037648\n",
       "4          100038  0.151049\n",
       "...           ...       ...\n",
       "48739      456221  0.044465\n",
       "48740      456222  0.061197\n",
       "48741      456223  0.008194\n",
       "48742      456224  0.025276\n",
       "48743      456250  0.255409\n",
       "\n",
       "[48744 rows x 2 columns]"
      ]
     },
     "execution_count": 3,
     "metadata": {},
     "output_type": "execute_result"
    }
   ],
   "source": [
    "import pandas as pd\n",
    "df = pd.read_csv('submission_kernel02.csv')\n",
    "\n",
    "df"
   ]
  },
  {
   "cell_type": "code",
   "execution_count": 4,
   "id": "b54b0d6f-c190-4c58-b8b7-5e9332fe6644",
   "metadata": {},
   "outputs": [],
   "source": [
    "id = 456250"
   ]
  },
  {
   "cell_type": "code",
   "execution_count": 13,
   "id": "b5a61d2d-e496-41c1-801d-b9804f79ca98",
   "metadata": {},
   "outputs": [],
   "source": [
    "def recuperer_score_par_ID(id):\n",
    "        df2 = df[df['SK_ID_CURR'] == id]\n",
    "        list = df2['TARGET'].values.tolist()\n",
    "        return list"
   ]
  },
  {
   "cell_type": "code",
   "execution_count": 14,
   "id": "abe0f412-e2a4-4c3e-9a7c-cdfa9b7f40f1",
   "metadata": {},
   "outputs": [
    {
     "data": {
      "text/plain": [
       "[0.2554092008360334]"
      ]
     },
     "execution_count": 14,
     "metadata": {},
     "output_type": "execute_result"
    }
   ],
   "source": [
    "recuperer_score_par_ID(id)"
   ]
  },
  {
   "cell_type": "code",
   "execution_count": 15,
   "id": "c80e4525-77de-48db-9cee-488e8e0ec8f6",
   "metadata": {},
   "outputs": [
    {
     "data": {
      "text/plain": [
       "SK_ID_CURR      int64\n",
       "TARGET        float64\n",
       "dtype: object"
      ]
     },
     "execution_count": 15,
     "metadata": {},
     "output_type": "execute_result"
    }
   ],
   "source": [
    "df.dtypes"
   ]
  },
  {
   "cell_type": "code",
   "execution_count": 16,
   "id": "c7f71a07-20e1-4d98-a63f-077cd148ccfb",
   "metadata": {},
   "outputs": [
    {
     "name": "stdout",
     "output_type": "stream",
     "text": [
      "Note: you may need to restart the kernel to use updated packages.\n"
     ]
    },
    {
     "name": "stderr",
     "output_type": "stream",
     "text": [
      "\n",
      "Usage:   \n",
      "  C:\\Users\\Takeoff\\anaconda3\\envs\\mlflow\\python.exe -m pip install [options] <requirement specifier> [package-index-options] ...\n",
      "  C:\\Users\\Takeoff\\anaconda3\\envs\\mlflow\\python.exe -m pip install [options] -r <requirements file> [package-index-options] ...\n",
      "  C:\\Users\\Takeoff\\anaconda3\\envs\\mlflow\\python.exe -m pip install [options] [-e] <vcs project url> ...\n",
      "  C:\\Users\\Takeoff\\anaconda3\\envs\\mlflow\\python.exe -m pip install [options] [-e] <local project path> ...\n",
      "  C:\\Users\\Takeoff\\anaconda3\\envs\\mlflow\\python.exe -m pip install [options] <archive url/path> ...\n",
      "\n",
      "ambiguous option: --u (--upgrade, --upgrade-strategy, --use-deprecated, --use-feature, --use-pep517, --user?)\n"
     ]
    }
   ],
   "source": [
    "pip install git --u  "
   ]
  },
  {
   "cell_type": "code",
   "execution_count": null,
   "id": "137a934d-757c-440f-aca5-aa5e45c4784e",
   "metadata": {},
   "outputs": [],
   "source": []
  }
 ],
 "metadata": {
  "kernelspec": {
   "display_name": "Python 3 (ipykernel)",
   "language": "python",
   "name": "python3"
  },
  "language_info": {
   "codemirror_mode": {
    "name": "ipython",
    "version": 3
   },
   "file_extension": ".py",
   "mimetype": "text/x-python",
   "name": "python",
   "nbconvert_exporter": "python",
   "pygments_lexer": "ipython3",
   "version": "3.8.18"
  }
 },
 "nbformat": 4,
 "nbformat_minor": 5
}
